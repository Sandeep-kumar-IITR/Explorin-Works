{
 "cells": [
  {
   "cell_type": "markdown",
   "id": "2fa37759",
   "metadata": {},
   "source": [
    "# Pridict Sensex & Weghtage of all 30 companies"
   ]
  },
  {
   "cell_type": "markdown",
   "id": "eda16e73",
   "metadata": {},
   "source": [
    "## Import library"
   ]
  },
  {
   "cell_type": "code",
   "execution_count": null,
   "id": "784f7ea9",
   "metadata": {},
   "outputs": [],
   "source": [
    "import pandas as pd\n",
    "import numpy as np\n",
    "%matplotlib inline\n",
    "import matplotlib.pyplot as plt\n",
    "\n"
   ]
  },
  {
   "cell_type": "markdown",
   "id": "35b63516",
   "metadata": {},
   "source": [
    "## Get name of 100 company using csv file\n"
   ]
  },
  {
   "cell_type": "code",
   "execution_count": null,
   "id": "690c1a91",
   "metadata": {},
   "outputs": [],
   "source": [
    "comp_name = pd.read_csv(\"sensex_comp.csv\")\n",
    "comp_name.head(5)"
   ]
  },
  {
   "cell_type": "code",
   "execution_count": null,
   "id": "8a18b505",
   "metadata": {},
   "outputs": [],
   "source": [
    "len(comp_name)"
   ]
  },
  {
   "cell_type": "markdown",
   "id": "03cc1a51",
   "metadata": {},
   "source": [
    "## ADD column"
   ]
  },
  {
   "cell_type": "code",
   "execution_count": null,
   "id": "0966e820",
   "metadata": {},
   "outputs": [],
   "source": [
    "comp_name1 = comp_name.copy()\n",
    "comp_name1[\"free_free_float_share\"] = comp_name[\"total share\"]*comp_name[\"free_float_factor\"]\n",
    "comp_name1.head(5)"
   ]
  },
  {
   "cell_type": "markdown",
   "id": "f2e95533",
   "metadata": {},
   "source": [
    "# drop column unnecessary column"
   ]
  },
  {
   "cell_type": "code",
   "execution_count": null,
   "id": "bb5aac06",
   "metadata": {},
   "outputs": [],
   "source": [
    "comp_name2 = comp_name1.drop([\"industry\",\"market_cap\",\"total share\",\"free_float_factor\"], axis = 1)\n",
    "comp_name2"
   ]
  },
  {
   "cell_type": "markdown",
   "id": "8be14bee",
   "metadata": {},
   "source": [
    "overview to find free float market cap of one company then i apply it for all of them"
   ]
  },
  {
   "cell_type": "code",
   "execution_count": null,
   "id": "f6ac5886",
   "metadata": {},
   "outputs": [],
   "source": [
    "# let for tcs\n",
    "\n"
   ]
  },
  {
   "cell_type": "markdown",
   "id": "36011784",
   "metadata": {},
   "source": [
    "# import library nse.py and yfinance python library"
   ]
  },
  {
   "cell_type": "code",
   "execution_count": null,
   "id": "542efbd4",
   "metadata": {},
   "outputs": [],
   "source": [
    "from nsepy import get_history\n",
    "from datetime import date\n",
    "from datetime import datetime, timedelta\n",
    "import yfinance as yf"
   ]
  },
  {
   "cell_type": "markdown",
   "id": "c68408ca",
   "metadata": {},
   "source": [
    "# Firstly check for one company by fetching its data"
   ]
  },
  {
   "cell_type": "code",
   "execution_count": null,
   "id": "c30c3d0e",
   "metadata": {},
   "outputs": [],
   "source": [
    "data_tcs = get_history(symbol=\"TCS\" ,  start=datetime.today() - timedelta(10), end=datetime.today())"
   ]
  },
  {
   "cell_type": "code",
   "execution_count": null,
   "id": "28416e14",
   "metadata": {},
   "outputs": [],
   "source": [
    "data_tcs"
   ]
  },
  {
   "cell_type": "code",
   "execution_count": null,
   "id": "bd3eab46",
   "metadata": {},
   "outputs": [],
   "source": [
    "data_tcs1 = data_tcs[\"Close\"]"
   ]
  },
  {
   "cell_type": "code",
   "execution_count": null,
   "id": "2a6bf788",
   "metadata": {},
   "outputs": [],
   "source": [
    "data_tcs1.head()"
   ]
  },
  {
   "cell_type": "code",
   "execution_count": null,
   "id": "b0efa141",
   "metadata": {},
   "outputs": [],
   "source": [
    "len(data_tcs1)"
   ]
  },
  {
   "cell_type": "markdown",
   "id": "abe61c1f",
   "metadata": {},
   "source": [
    " As i seen it work properly so i make a function to get data of all company"
   ]
  },
  {
   "cell_type": "markdown",
   "id": "3227caa8",
   "metadata": {},
   "source": [
    "# Function to fetch data"
   ]
  },
  {
   "cell_type": "code",
   "execution_count": null,
   "id": "934e23fa",
   "metadata": {},
   "outputs": [],
   "source": [
    "\n",
    "def get_full_free_float_market_cap(dp):\n",
    "    dp_out = pd.DataFrame()\n",
    "    \n",
    "    list_comp = dp.company\n",
    "    list_free_share = dp.free_free_float_share\n",
    "    \n",
    "    for i in range(0,len(dp)):\n",
    "        a =dp[\"company\"][i]\n",
    "        print(a)\n",
    "\n",
    "\n",
    "        data_p = get_history(symbol=dp[\"company\"][i] ,  start=datetime.today() - timedelta(100), end=datetime.today())[\"Close\"]\n",
    "        dp_out[dp[\"company\"][i]] = data_p*dp[\"free_free_float_share\"][i]*1000000\n",
    "    return dp_out\n",
    "        \n",
    "        "
   ]
  },
  {
   "cell_type": "code",
   "execution_count": null,
   "id": "3ec88587",
   "metadata": {},
   "outputs": [],
   "source": [
    "daty = get_full_free_float_market_cap(comp_name2)\n",
    "daty"
   ]
  },
  {
   "cell_type": "code",
   "execution_count": null,
   "id": "c68ca789",
   "metadata": {},
   "outputs": [],
   "source": [
    "daty.isnull().sum()"
   ]
  },
  {
   "cell_type": "code",
   "execution_count": null,
   "id": "221dcd2a",
   "metadata": {},
   "outputs": [],
   "source": []
  },
  {
   "cell_type": "markdown",
   "id": "00afd6f9",
   "metadata": {},
   "source": [
    "# Function to fetch sensex"
   ]
  },
  {
   "cell_type": "code",
   "execution_count": null,
   "id": "1f64c303",
   "metadata": {},
   "outputs": [],
   "source": [
    "sensex = yf.Ticker(\"^BSESN\")\n",
    "\n",
    "# # get stock info\n",
    "# msft.info\n",
    "sensex_data = sensex.history(start=datetime.today() - timedelta(100), end=datetime.today()-timedelta(1))\n",
    "sensex_data\n"
   ]
  },
  {
   "cell_type": "code",
   "execution_count": null,
   "id": "1383efd7",
   "metadata": {},
   "outputs": [],
   "source": [
    "sensex_close = pd.DataFrame(sensex_data[\"Close\"])\n",
    "sensex_close"
   ]
  },
  {
   "cell_type": "markdown",
   "id": "dfcba044",
   "metadata": {},
   "source": [
    "# Now partisan the data between train and test"
   ]
  },
  {
   "cell_type": "code",
   "execution_count": null,
   "id": "84fe812e",
   "metadata": {},
   "outputs": [],
   "source": [
    "x1= daty.copy()\n",
    "x1"
   ]
  },
  {
   "cell_type": "code",
   "execution_count": null,
   "id": "c01782b6",
   "metadata": {},
   "outputs": [],
   "source": [
    "y1 = sensex_close.copy()\n",
    "y1"
   ]
  },
  {
   "cell_type": "code",
   "execution_count": null,
   "id": "e5d32f04",
   "metadata": {},
   "outputs": [],
   "source": [
    "from sklearn.model_selection import train_test_split\n",
    "x_train , x_test,y_train,y_test = train_test_split(x1,y1,test_size = 0.2,random_state = 10)"
   ]
  },
  {
   "cell_type": "code",
   "execution_count": null,
   "id": "71c2c0ad",
   "metadata": {},
   "outputs": [],
   "source": [
    "x_train.shape"
   ]
  },
  {
   "cell_type": "code",
   "execution_count": null,
   "id": "7da14bd0",
   "metadata": {},
   "outputs": [],
   "source": [
    "y_train.shape"
   ]
  },
  {
   "cell_type": "code",
   "execution_count": null,
   "id": "af3e2552",
   "metadata": {},
   "outputs": [],
   "source": [
    "x_test.shape"
   ]
  },
  {
   "cell_type": "code",
   "execution_count": null,
   "id": "682c697f",
   "metadata": {},
   "outputs": [],
   "source": [
    "y_test.shape"
   ]
  },
  {
   "cell_type": "code",
   "execution_count": null,
   "id": "8733d3d0",
   "metadata": {},
   "outputs": [],
   "source": []
  },
  {
   "cell_type": "markdown",
   "id": "d55cfcb9",
   "metadata": {},
   "source": [
    "# Now this is time of training"
   ]
  },
  {
   "cell_type": "code",
   "execution_count": null,
   "id": "ebe67008",
   "metadata": {},
   "outputs": [],
   "source": [
    "from sklearn.linear_model import LinearRegression\n",
    "lr_clf = LinearRegression()\n",
    "lr_clf.fit(x_train,y_train)\n",
    "lr_clf.score(x_test,y_test)"
   ]
  },
  {
   "cell_type": "markdown",
   "id": "4ccaf31a",
   "metadata": {},
   "source": [
    " as it is best it is 99.99 acurate"
   ]
  },
  {
   "cell_type": "markdown",
   "id": "52415f37",
   "metadata": {},
   "source": [
    "# Now Create a function to predict sensex "
   ]
  },
  {
   "cell_type": "markdown",
   "id": "b6452674",
   "metadata": {},
   "source": [
    "Note: maket sensex is unpredictable this function only allow you to predict sensex if you provide indices of 30 companies"
   ]
  },
  {
   "cell_type": "markdown",
   "id": "3a5b4a04",
   "metadata": {},
   "source": [
    "so let you want to predict sensex of yesterday"
   ]
  },
  {
   "cell_type": "code",
   "execution_count": null,
   "id": "415a7ab0",
   "metadata": {},
   "outputs": [],
   "source": [
    "\n"
   ]
  },
  {
   "cell_type": "code",
   "execution_count": null,
   "id": "276f9c2e",
   "metadata": {},
   "outputs": [],
   "source": [
    "def get_full_free_float_market_cap1(dp):\n",
    "    dp_out = pd.DataFrame()\n",
    "    \n",
    "    list_comp = dp.company\n",
    "    list_free_share = dp.free_free_float_share\n",
    "    \n",
    "    for i in range(0,len(dp)):\n",
    "        a =dp[\"company\"][i]\n",
    "        data_p = get_history(symbol=dp[\"company\"][i] ,  start=datetime.today() - timedelta(2), end=datetime.today()-timedelta(2))[\"Close\"]\n",
    "        dp_out[dp[\"company\"][i]] = data_p*dp[\"free_free_float_share\"][i]\n",
    "    return dp_out"
   ]
  },
  {
   "cell_type": "code",
   "execution_count": null,
   "id": "67561795",
   "metadata": {},
   "outputs": [],
   "source": [
    "yster = get_full_free_float_market_cap1(comp_name2)\n",
    "yster"
   ]
  },
  {
   "cell_type": "code",
   "execution_count": null,
   "id": "13df4091",
   "metadata": {},
   "outputs": [],
   "source": [
    "def predict_sensex(dp):\n",
    "    \n",
    "    return lr_clf.predict(dp)[0]"
   ]
  },
  {
   "cell_type": "code",
   "execution_count": null,
   "id": "4826eb74",
   "metadata": {},
   "outputs": [],
   "source": [
    "sensex_of_yesterday = predict_sensex(yster)\n",
    "sensex_of_yesterday"
   ]
  },
  {
   "cell_type": "markdown",
   "id": "bf410260",
   "metadata": {},
   "source": [
    "and now get original sensex of yesterday using python library"
   ]
  },
  {
   "cell_type": "code",
   "execution_count": null,
   "id": "36b6f46d",
   "metadata": {},
   "outputs": [],
   "source": [
    "sensex_of_yesterday_org = sensex.history(start=datetime.today() - timedelta(2), end=datetime.today()-timedelta(2))\n",
    "sensex_of_yesterday_org.Close\n"
   ]
  },
  {
   "cell_type": "markdown",
   "id": "96aea49f",
   "metadata": {},
   "source": [
    "# Hurry for date 24 -05 -2022\n",
    "it is 100 % accurate"
   ]
  },
  {
   "cell_type": "code",
   "execution_count": null,
   "id": "f19c8789",
   "metadata": {},
   "outputs": [],
   "source": [
    "coficient = pd.DataFrame(lr_clf.coef_)\n",
    "coficient"
   ]
  },
  {
   "cell_type": "markdown",
   "id": "5109cba2",
   "metadata": {},
   "source": [
    "it is cofficient or weigtage of all 30 company "
   ]
  },
  {
   "cell_type": "markdown",
   "id": "c53884c4",
   "metadata": {},
   "source": [
    "# NOW this Project of pridicting sensex is over\n"
   ]
  },
  {
   "cell_type": "code",
   "execution_count": null,
   "id": "0acbd9bd",
   "metadata": {},
   "outputs": [],
   "source": []
  },
  {
   "cell_type": "code",
   "execution_count": null,
   "id": "b16615a7",
   "metadata": {},
   "outputs": [],
   "source": []
  },
  {
   "cell_type": "code",
   "execution_count": null,
   "id": "6625cc46",
   "metadata": {},
   "outputs": [],
   "source": []
  }
 ],
 "metadata": {
  "kernelspec": {
   "display_name": "Python 3 (ipykernel)",
   "language": "python",
   "name": "python3"
  },
  "language_info": {
   "codemirror_mode": {
    "name": "ipython",
    "version": 3
   },
   "file_extension": ".py",
   "mimetype": "text/x-python",
   "name": "python",
   "nbconvert_exporter": "python",
   "pygments_lexer": "ipython3",
   "version": "3.10.0"
  }
 },
 "nbformat": 4,
 "nbformat_minor": 5
}
