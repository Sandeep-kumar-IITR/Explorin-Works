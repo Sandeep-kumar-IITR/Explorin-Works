{
 "cells": [
  {
   "cell_type": "code",
   "execution_count": 1,
   "id": "a30c5f27",
   "metadata": {},
   "outputs": [],
   "source": [
    "import pandas as pd\n",
    "import seaborn as sns\n",
    "import matplotlib.pyplot as plt\n",
    "from collections import OrderedDict\n",
    "import operator\n"
   ]
  },
  {
   "cell_type": "code",
   "execution_count": 2,
   "id": "8590d693",
   "metadata": {},
   "outputs": [],
   "source": [
    "from nsepy import get_history\n",
    "from datetime import date \n",
    "from datetime import datetime, timedelta"
   ]
  },
  {
   "cell_type": "markdown",
   "id": "414c03e2",
   "metadata": {},
   "source": [
    "# All analysis is done on top 100 bigest company in term of market cap"
   ]
  },
  {
   "cell_type": "code",
   "execution_count": 6,
   "id": "def0be64",
   "metadata": {},
   "outputs": [
    {
     "data": {
      "text/html": [
       "<div>\n",
       "<style scoped>\n",
       "    .dataframe tbody tr th:only-of-type {\n",
       "        vertical-align: middle;\n",
       "    }\n",
       "\n",
       "    .dataframe tbody tr th {\n",
       "        vertical-align: top;\n",
       "    }\n",
       "\n",
       "    .dataframe thead th {\n",
       "        text-align: right;\n",
       "    }\n",
       "</style>\n",
       "<table border=\"1\" class=\"dataframe\">\n",
       "  <thead>\n",
       "    <tr style=\"text-align: right;\">\n",
       "      <th></th>\n",
       "      <th>Sr. No.</th>\n",
       "      <th>Symbol</th>\n",
       "      <th>Company Name</th>\n",
       "      <th>market_cap</th>\n",
       "    </tr>\n",
       "  </thead>\n",
       "  <tbody>\n",
       "    <tr>\n",
       "      <th>0</th>\n",
       "      <td>1</td>\n",
       "      <td>RELIANCE</td>\n",
       "      <td>Reliance Industries Limited</td>\n",
       "      <td>70603579.0</td>\n",
       "    </tr>\n",
       "    <tr>\n",
       "      <th>1</th>\n",
       "      <td>2</td>\n",
       "      <td>TCS</td>\n",
       "      <td>Tata Consultancy Services Limited</td>\n",
       "      <td>68522297.0</td>\n",
       "    </tr>\n",
       "    <tr>\n",
       "      <th>2</th>\n",
       "      <td>3</td>\n",
       "      <td>HINDUNILVR</td>\n",
       "      <td>Hindustan Unilever Limited</td>\n",
       "      <td>49758412.0</td>\n",
       "    </tr>\n",
       "    <tr>\n",
       "      <th>3</th>\n",
       "      <td>4</td>\n",
       "      <td>HDFCBANK</td>\n",
       "      <td>HDFC Bank Limited</td>\n",
       "      <td>47248232.0</td>\n",
       "    </tr>\n",
       "    <tr>\n",
       "      <th>4</th>\n",
       "      <td>5</td>\n",
       "      <td>HDFC</td>\n",
       "      <td>Housing Development Finance Corporation Limited</td>\n",
       "      <td>28235708.0</td>\n",
       "    </tr>\n",
       "    <tr>\n",
       "      <th>...</th>\n",
       "      <td>...</td>\n",
       "      <td>...</td>\n",
       "      <td>...</td>\n",
       "      <td>...</td>\n",
       "    </tr>\n",
       "    <tr>\n",
       "      <th>92</th>\n",
       "      <td>96</td>\n",
       "      <td>GLAXO</td>\n",
       "      <td>GlaxoSmithKline Pharmaceuticals Limited</td>\n",
       "      <td>2130111.0</td>\n",
       "    </tr>\n",
       "    <tr>\n",
       "      <th>93</th>\n",
       "      <td>97</td>\n",
       "      <td>3MINDIA</td>\n",
       "      <td>3M India Limited</td>\n",
       "      <td>2120982.0</td>\n",
       "    </tr>\n",
       "    <tr>\n",
       "      <th>94</th>\n",
       "      <td>98</td>\n",
       "      <td>PEL</td>\n",
       "      <td>Piramal Enterprises Limited</td>\n",
       "      <td>2119007.0</td>\n",
       "    </tr>\n",
       "    <tr>\n",
       "      <th>95</th>\n",
       "      <td>99</td>\n",
       "      <td>KANSAINER</td>\n",
       "      <td>Kansai Nerolac Paints Limited</td>\n",
       "      <td>2088044.0</td>\n",
       "    </tr>\n",
       "    <tr>\n",
       "      <th>96</th>\n",
       "      <td>100</td>\n",
       "      <td>ADANITRANS</td>\n",
       "      <td>Adani Transmission Limited</td>\n",
       "      <td>2079191.0</td>\n",
       "    </tr>\n",
       "  </tbody>\n",
       "</table>\n",
       "<p>97 rows × 4 columns</p>\n",
       "</div>"
      ],
      "text/plain": [
       "    Sr. No.      Symbol                                     Company Name  \\\n",
       "0         1    RELIANCE                      Reliance Industries Limited   \n",
       "1         2         TCS                Tata Consultancy Services Limited   \n",
       "2         3  HINDUNILVR                       Hindustan Unilever Limited   \n",
       "3         4    HDFCBANK                                HDFC Bank Limited   \n",
       "4         5        HDFC  Housing Development Finance Corporation Limited   \n",
       "..      ...         ...                                              ...   \n",
       "92       96       GLAXO          GlaxoSmithKline Pharmaceuticals Limited   \n",
       "93       97     3MINDIA                                 3M India Limited   \n",
       "94       98         PEL                      Piramal Enterprises Limited   \n",
       "95       99   KANSAINER                    Kansai Nerolac Paints Limited   \n",
       "96      100  ADANITRANS                       Adani Transmission Limited   \n",
       "\n",
       "    market_cap  \n",
       "0   70603579.0  \n",
       "1   68522297.0  \n",
       "2   49758412.0  \n",
       "3   47248232.0  \n",
       "4   28235708.0  \n",
       "..         ...  \n",
       "92   2130111.0  \n",
       "93   2120982.0  \n",
       "94   2119007.0  \n",
       "95   2088044.0  \n",
       "96   2079191.0  \n",
       "\n",
       "[97 rows x 4 columns]"
      ]
     },
     "execution_count": 6,
     "metadata": {},
     "output_type": "execute_result"
    }
   ],
   "source": [
    "comp_name = pd.read_csv('comp_name.csv')\n",
    "comp_name"
   ]
  },
  {
   "cell_type": "code",
   "execution_count": 7,
   "id": "6ce4e2c2",
   "metadata": {},
   "outputs": [
    {
     "data": {
      "text/plain": [
       "0       RELIANCE\n",
       "1            TCS\n",
       "2     HINDUNILVR\n",
       "3       HDFCBANK\n",
       "4           HDFC\n",
       "         ...    \n",
       "92         GLAXO\n",
       "93       3MINDIA\n",
       "94           PEL\n",
       "95     KANSAINER\n",
       "96    ADANITRANS\n",
       "Name: Symbol, Length: 97, dtype: object"
      ]
     },
     "execution_count": 7,
     "metadata": {},
     "output_type": "execute_result"
    }
   ],
   "source": [
    "df = comp_name[\"Symbol\"].head(500)\n",
    "df "
   ]
  },
  {
   "cell_type": "code",
   "execution_count": 8,
   "id": "f579fffb",
   "metadata": {},
   "outputs": [
    {
     "data": {
      "image/png": "[encoded data removed]",
      "text/plain": [
       "<Figure size 432x288 with 1 Axes>"
      ]
     },
     "metadata": {
      "needs_background": "light"
     },
     "output_type": "display_data"
    }
   ],
   "source": [
    "ax = sns.barplot(x=\"Symbol\", y=\"market_cap\", data=comp_name)"
   ]
  },
  {
   "cell_type": "code",
   "execution_count": null,
   "id": "0ea93e87",
   "metadata": {},
   "outputs": [],
   "source": [
    "sns.scatterplot(data=comp_name, x=\"Symbol\", y=\"market_cap\")"
   ]
  },
  {
   "cell_type": "markdown",
   "id": "a65fa482",
   "metadata": {},
   "source": [
    "# Top 5 company in term of market cap"
   ]
  },
  {
   "cell_type": "code",
   "execution_count": null,
   "id": "ad02d156",
   "metadata": {},
   "outputs": [],
   "source": [
    "df.head(5)"
   ]
  },
  {
   "cell_type": "markdown",
   "id": "10f1c101",
   "metadata": {},
   "source": [
    "# Profit and loss %"
   ]
  },
  {
   "cell_type": "code",
   "execution_count": null,
   "id": "e3286571",
   "metadata": {},
   "outputs": [],
   "source": [
    "profit = {}\n"
   ]
  },
  {
   "cell_type": "code",
   "execution_count": null,
   "id": "3ad7d4da",
   "metadata": {},
   "outputs": [],
   "source": [
    "for i in df:\n",
    "    df1 =  get_history(symbol= i ,  start=datetime.today() - timedelta(365), end=datetime.today())\n",
    "    high = df1['High'].max()\n",
    "    low = df1['Low'].min()\n",
    "    vwap_avg = df1['VWAP'].mean()\n",
    "    vwap0 = df1.iloc[-1].at['VWAP']\n",
    "    p = (vwap0- vwap_avg)*100/vwap0\n",
    "    profit[i]=p"
   ]
  },
  {
   "cell_type": "code",
   "execution_count": null,
   "id": "88694fbf",
   "metadata": {},
   "outputs": [],
   "source": [
    "profit = dict( sorted(profit.items(),\n",
    "                           key=lambda item: item[1],\n",
    "                           reverse=True))\n",
    "profit"
   ]
  },
  {
   "cell_type": "markdown",
   "id": "a09784ee",
   "metadata": {},
   "source": [
    "these show profit % in one year in term vwap avg and vwap for today \n"
   ]
  },
  {
   "cell_type": "markdown",
   "id": "7315fbfb",
   "metadata": {},
   "source": [
    "# Top 5 Gainer company (1yr duration)"
   ]
  },
  {
   "cell_type": "code",
   "execution_count": null,
   "id": "439efd6b",
   "metadata": {},
   "outputs": [],
   "source": [
    "import itertools "
   ]
  },
  {
   "cell_type": "code",
   "execution_count": null,
   "id": "c657cfb1",
   "metadata": {},
   "outputs": [],
   "source": [
    "top_gainer = dict(itertools.islice(profit.items(), 5)) "
   ]
  },
  {
   "cell_type": "code",
   "execution_count": null,
   "id": "36f852af",
   "metadata": {},
   "outputs": [],
   "source": [
    "top_gainer"
   ]
  },
  {
   "cell_type": "code",
   "execution_count": null,
   "id": "bdb66eb2",
   "metadata": {},
   "outputs": [],
   "source": [
    "for i in top_gainer.keys():\n",
    "    data_g = get_history(symbol=i ,  start=datetime.today() - timedelta(365), end=datetime.today())\n",
    "    data_g[['Open']].plot()\n",
    "    "
   ]
  },
  {
   "cell_type": "markdown",
   "id": "4d53b0d3",
   "metadata": {},
   "source": [
    "These are top 5 gainer company in term of volume weighted average"
   ]
  },
  {
   "cell_type": "markdown",
   "id": "558de4ab",
   "metadata": {},
   "source": [
    "# Top 5 looser company (1yr duration)"
   ]
  },
  {
   "cell_type": "code",
   "execution_count": null,
   "id": "77308b1d",
   "metadata": {},
   "outputs": [],
   "source": [
    "# top_looser = dict(itertools.islice(profit.items(), 5)) \n",
    "top_looser = list(profit.keys())\n",
    "top_looser = top_looser[-5:]\n",
    "top_looser"
   ]
  },
  {
   "cell_type": "code",
   "execution_count": null,
   "id": "f812b9ae",
   "metadata": {},
   "outputs": [],
   "source": [
    "for i in top_looser:\n",
    "    data_l = get_history(symbol=i ,  start=datetime.today() - timedelta(365), end=datetime.today())\n",
    "    data_l[['Open']].plot()\n",
    "    "
   ]
  },
  {
   "cell_type": "markdown",
   "id": "0c380386",
   "metadata": {},
   "source": [
    "# Three company in which you should invest\n"
   ]
  },
  {
   "cell_type": "raw",
   "id": "a3f13ae6",
   "metadata": {},
   "source": [
    "Acording to me, we should invest in those company ,\n",
    "which is overall profitable ,        which show a hike \n",
    "which belong to top 50 in term of market cap,\n",
    "whose price is now less vwap_avg min(3%), \n",
    "maximum will be 15% more than of current value\n"
   ]
  },
  {
   "cell_type": "code",
   "execution_count": null,
   "id": "799f5b9f",
   "metadata": {},
   "outputs": [],
   "source": [
    "df_3 = df.head(50)\n"
   ]
  },
  {
   "cell_type": "code",
   "execution_count": null,
   "id": "08fe9bda",
   "metadata": {},
   "outputs": [],
   "source": [
    "list_i = []\n",
    "for i in df_3:\n",
    "    df1 =  get_history(symbol= i ,  start=datetime.today() - timedelta(365), end=datetime.today())\n",
    "    high = df1['High'].max()\n",
    "    low = df1['Low'].min()\n",
    "    vwap_avg = df1['VWAP'].mean()\n",
    "    vwap0 = df1.iloc[-1].at['VWAP']\n",
    "    p = (vwap0- vwap_avg)*100/vwap0\n",
    "    profit[i]=p\n",
    "    if p>=3:\n",
    "        l = (high-vwap0)*100/high\n",
    "        if l>=15:\n",
    "            list_i.append(i)\n",
    "    "
   ]
  },
  {
   "cell_type": "code",
   "execution_count": null,
   "id": "d7ad4dbb",
   "metadata": {},
   "outputs": [],
   "source": [
    "\n",
    "list_i"
   ]
  },
  {
   "cell_type": "code",
   "execution_count": null,
   "id": "940c9984",
   "metadata": {},
   "outputs": [],
   "source": []
  },
  {
   "cell_type": "code",
   "execution_count": null,
   "id": "e1d1d246",
   "metadata": {},
   "outputs": [],
   "source": []
  },
  {
   "cell_type": "code",
   "execution_count": null,
   "id": "d335687b",
   "metadata": {},
   "outputs": [],
   "source": []
  },
  {
   "cell_type": "code",
   "execution_count": null,
   "id": "4cebcad1",
   "metadata": {},
   "outputs": [],
   "source": []
  }
 ],
 "metadata": {
  "kernelspec": {
   "display_name": "Python 3 (ipykernel)",
   "language": "python",
   "name": "python3"
  },
  "language_info": {
   "codemirror_mode": {
    "name": "ipython",
    "version": 3
   },
   "file_extension": ".py",
   "mimetype": "text/x-python",
   "name": "python",
   "nbconvert_exporter": "python",
   "pygments_lexer": "ipython3",
   "version": "3.10.0"
  }
 },
 "nbformat": 4,
 "nbformat_minor": 5
}
